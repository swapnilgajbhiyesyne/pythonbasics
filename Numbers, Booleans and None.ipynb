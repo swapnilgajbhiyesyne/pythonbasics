{
 "cells": [
  {
   "cell_type": "markdown",
   "id": "5a5c206e-315a-47ac-9462-c83fd7cf4055",
   "metadata": {},
   "source": [
    "**Numbers and Types**"
   ]
  },
  {
   "cell_type": "code",
   "execution_count": 1,
   "id": "472b79e9-4ae3-4d67-87d5-51bbcd5f2989",
   "metadata": {},
   "outputs": [],
   "source": [
    "#Three types used to represent numbers in Python; these are integers (or integral) types, floating point numbers and complex numbers."
   ]
  },
  {
   "cell_type": "markdown",
   "id": "bba1197d-455f-43e4-b56b-9d55cf56e746",
   "metadata": {},
   "source": [
    "**Integers**"
   ]
  },
  {
   "cell_type": "code",
   "execution_count": 2,
   "id": "a3626a38-e965-4213-9143-ccd6d750e75d",
   "metadata": {},
   "outputs": [],
   "source": [
    "x=1"
   ]
  },
  {
   "cell_type": "code",
   "execution_count": 3,
   "id": "4d4de24e-5f06-47bb-bda0-a4160ef92986",
   "metadata": {},
   "outputs": [
    {
     "name": "stdout",
     "output_type": "stream",
     "text": [
      "1\n"
     ]
    }
   ],
   "source": [
    "print(x)"
   ]
  },
  {
   "cell_type": "code",
   "execution_count": 4,
   "id": "e299ab94-9c44-4810-ba74-e1a6f21d87d0",
   "metadata": {},
   "outputs": [
    {
     "name": "stdout",
     "output_type": "stream",
     "text": [
      "<class 'int'>\n"
     ]
    }
   ],
   "source": [
    "print(type(x))"
   ]
  },
  {
   "cell_type": "markdown",
   "id": "df48564c-5e6b-4ba1-bffc-297f44277bd0",
   "metadata": {},
   "source": [
    "**Converting to Ints**"
   ]
  },
  {
   "cell_type": "code",
   "execution_count": 5,
   "id": "bf280aa3-816b-43e5-9eb8-f248c5fcf052",
   "metadata": {},
   "outputs": [],
   "source": [
    "#convert another type into an integer using the int() function. For example, if we want to convert a string into an int (assuming the string contains a integer number) then we can do this using the int() function."
   ]
  },
  {
   "cell_type": "code",
   "execution_count": 8,
   "id": "cddc7dc9-6936-463d-b0b8-6108510c4e23",
   "metadata": {},
   "outputs": [
    {
     "name": "stdin",
     "output_type": "stream",
     "text": [
      "Enter number 12\n"
     ]
    },
    {
     "name": "stdout",
     "output_type": "stream",
     "text": [
      "12\n"
     ]
    }
   ],
   "source": [
    "age=int(input(\"Enter number\"))\n",
    "print(age)"
   ]
  },
  {
   "cell_type": "markdown",
   "id": "34aed1ab-04b4-4b0b-84fa-9e20753fccbf",
   "metadata": {},
   "source": [
    "**Converting to Float**"
   ]
  },
  {
   "cell_type": "code",
   "execution_count": 9,
   "id": "4d7cd797-f614-48cc-ac4c-3172a1b3e506",
   "metadata": {},
   "outputs": [],
   "source": [
    "#possible to convert other types such as an int or a string into a float. This is done using the float() function"
   ]
  },
  {
   "cell_type": "code",
   "execution_count": 13,
   "id": "d1349d6c-019f-4f4d-b8cf-91e510103175",
   "metadata": {},
   "outputs": [
    {
     "name": "stdin",
     "output_type": "stream",
     "text": [
      "Enter integer value 3\n"
     ]
    },
    {
     "name": "stdout",
     "output_type": "stream",
     "text": [
      "3.0\n"
     ]
    }
   ],
   "source": [
    "age=float(input(\"Enter integer value\"))\n",
    "print(age)"
   ]
  },
  {
   "cell_type": "markdown",
   "id": "1b751dd3-7946-416f-8fbe-7fc58e742b06",
   "metadata": {},
   "source": [
    "**Converting String to Float**"
   ]
  },
  {
   "cell_type": "code",
   "execution_count": 17,
   "id": "c31cf5ba-1405-4a3a-8ede-48c7d45cb4c1",
   "metadata": {},
   "outputs": [
    {
     "name": "stdin",
     "output_type": "stream",
     "text": [
      "Enter string 1.5\n"
     ]
    },
    {
     "name": "stdout",
     "output_type": "stream",
     "text": [
      "1.5\n"
     ]
    }
   ],
   "source": [
    "strr=float(input(\"Enter string\"))\n",
    "print(strr)"
   ]
  },
  {
   "cell_type": "code",
   "execution_count": 18,
   "id": "62a1d413-2413-4e2c-964e-0276db8516c4",
   "metadata": {},
   "outputs": [
    {
     "name": "stdout",
     "output_type": "stream",
     "text": [
      "1.56\n"
     ]
    }
   ],
   "source": [
    "val='1.56'\n",
    "print(float(val))"
   ]
  },
  {
   "cell_type": "code",
   "execution_count": null,
   "id": "7fc4e5f2-a4c1-403c-9b06-0ee369f035b0",
   "metadata": {},
   "outputs": [],
   "source": []
  }
 ],
 "metadata": {
  "kernelspec": {
   "display_name": "Python 3 (ipykernel)",
   "language": "python",
   "name": "python3"
  },
  "language_info": {
   "codemirror_mode": {
    "name": "ipython",
    "version": 3
   },
   "file_extension": ".py",
   "mimetype": "text/x-python",
   "name": "python",
   "nbconvert_exporter": "python",
   "pygments_lexer": "ipython3",
   "version": "3.13.0"
  }
 },
 "nbformat": 4,
 "nbformat_minor": 5
}
