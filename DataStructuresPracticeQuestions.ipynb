{
 "cells": [
  {
   "cell_type": "markdown",
   "id": "80f54bcc-e8bd-48bf-834c-f783a36989ce",
   "metadata": {},
   "source": [
    "**LISTS**"
   ]
  },
  {
   "cell_type": "markdown",
   "id": "a6c5f27a-4846-4875-8740-ea9f10a4e688",
   "metadata": {},
   "source": [
    "**Create a list of 5 fruits and print the second fruit.**"
   ]
  },
  {
   "cell_type": "code",
   "execution_count": 1,
   "id": "8594ad1c-89b4-44a2-ae54-78e8c44d5266",
   "metadata": {},
   "outputs": [],
   "source": [
    "fruits=[\"apple\",\"banana\",\"ornage\",\"grapes\",\"jackfruit\"]"
   ]
  },
  {
   "cell_type": "code",
   "execution_count": 2,
   "id": "46535d34-9a71-46b2-9c95-73cb409f7f58",
   "metadata": {},
   "outputs": [
    {
     "name": "stdout",
     "output_type": "stream",
     "text": [
      "banana\n"
     ]
    }
   ],
   "source": [
    "print(fruits[1])"
   ]
  },
  {
   "cell_type": "markdown",
   "id": "2c6dbd25-2448-4a16-8e21-3a09dcfdfbb3",
   "metadata": {},
   "source": [
    "**Add \"mango\" to the end of the list.**"
   ]
  },
  {
   "cell_type": "code",
   "execution_count": 3,
   "id": "a1939857-d18b-4f56-bb32-966f8ed7a7ad",
   "metadata": {},
   "outputs": [],
   "source": [
    "fruits.append(\"mango\")"
   ]
  },
  {
   "cell_type": "code",
   "execution_count": 4,
   "id": "5f7c7593-c4bf-40c6-a609-363f0d6a904d",
   "metadata": {},
   "outputs": [
    {
     "name": "stdout",
     "output_type": "stream",
     "text": [
      "['apple', 'banana', 'ornage', 'grapes', 'jackfruit', 'mango']\n"
     ]
    }
   ],
   "source": [
    "print(fruits)"
   ]
  },
  {
   "cell_type": "markdown",
   "id": "2fc0c2b3-da22-478f-901c-aeca2d45e391",
   "metadata": {},
   "source": [
    "**Remove the first item from the list.**"
   ]
  },
  {
   "cell_type": "code",
   "execution_count": 6,
   "id": "0698f1e1-623d-4b08-b365-3069b873b75f",
   "metadata": {},
   "outputs": [
    {
     "data": {
      "text/plain": [
       "'mango'"
      ]
     },
     "execution_count": 6,
     "metadata": {},
     "output_type": "execute_result"
    }
   ],
   "source": [
    "fruits.pop()"
   ]
  },
  {
   "cell_type": "code",
   "execution_count": 8,
   "id": "9956a585-f82d-4393-809e-4ffa45addaae",
   "metadata": {},
   "outputs": [
    {
     "name": "stdout",
     "output_type": "stream",
     "text": [
      "['apple', 'banana', 'ornage', 'grapes', 'jackfruit']\n"
     ]
    }
   ],
   "source": [
    "print(fruits)"
   ]
  },
  {
   "cell_type": "code",
   "execution_count": 9,
   "id": "9ffe14f8-3f24-4192-a23f-882559b692cf",
   "metadata": {},
   "outputs": [
    {
     "data": {
      "text/plain": [
       "'apple'"
      ]
     },
     "execution_count": 9,
     "metadata": {},
     "output_type": "execute_result"
    }
   ],
   "source": [
    "fruits.pop(0)"
   ]
  },
  {
   "cell_type": "code",
   "execution_count": 10,
   "id": "c5d8f75e-8319-42c8-9a54-f77b6ab4fecc",
   "metadata": {},
   "outputs": [
    {
     "name": "stdout",
     "output_type": "stream",
     "text": [
      "['banana', 'ornage', 'grapes', 'jackfruit']\n"
     ]
    }
   ],
   "source": [
    "print(fruits)"
   ]
  },
  {
   "cell_type": "markdown",
   "id": "db93fca4-3081-4770-9d4f-b2abd8b1d5b3",
   "metadata": {},
   "source": [
    "**Sort a list of numbers: [5, 3, 8, 1].**"
   ]
  },
  {
   "cell_type": "code",
   "execution_count": 11,
   "id": "f5772d52-e676-43f3-8939-ce66a5c08197",
   "metadata": {},
   "outputs": [],
   "source": [
    "numbers=[5,3,8,1]"
   ]
  },
  {
   "cell_type": "code",
   "execution_count": 12,
   "id": "632986ea-7988-49a8-8df4-57c05c1732ae",
   "metadata": {},
   "outputs": [],
   "source": [
    "numbers.sort()"
   ]
  },
  {
   "cell_type": "code",
   "execution_count": 13,
   "id": "500d3e36-34c8-44a4-a1ab-0d9b4c3ca1f2",
   "metadata": {},
   "outputs": [
    {
     "name": "stdout",
     "output_type": "stream",
     "text": [
      "[1, 3, 5, 8]\n"
     ]
    }
   ],
   "source": [
    "print(numbers)"
   ]
  },
  {
   "cell_type": "code",
   "execution_count": null,
   "id": "0aea9e65-e1bf-4eef-8297-47126b856b72",
   "metadata": {},
   "outputs": [],
   "source": []
  }
 ],
 "metadata": {
  "kernelspec": {
   "display_name": "Python 3 (ipykernel)",
   "language": "python",
   "name": "python3"
  },
  "language_info": {
   "codemirror_mode": {
    "name": "ipython",
    "version": 3
   },
   "file_extension": ".py",
   "mimetype": "text/x-python",
   "name": "python",
   "nbconvert_exporter": "python",
   "pygments_lexer": "ipython3",
   "version": "3.13.0"
  }
 },
 "nbformat": 4,
 "nbformat_minor": 5
}
