{
 "cells": [
  {
   "cell_type": "markdown",
   "id": "1159078a-f295-4bec-a00f-9cc2a39b6f2d",
   "metadata": {},
   "source": [
    "**Accessing a Character**"
   ]
  },
  {
   "cell_type": "code",
   "execution_count": 22,
   "id": "c13a199f-6cca-418a-92a0-978ce192e3d6",
   "metadata": {},
   "outputs": [],
   "source": [
    "# As a string is a fixed sequence of letters, it is possible to use square brackets and an index (or position) to retrieve a specific character from wAwithin a string\n"
   ]
  },
  {
   "cell_type": "code",
   "execution_count": 7,
   "id": "a69d889b-370c-46b5-816f-7bf599120ac3",
   "metadata": {},
   "outputs": [],
   "source": [
    "strr='Hello World'"
   ]
  },
  {
   "cell_type": "code",
   "execution_count": 9,
   "id": "f26fffe6-dc18-4b5f-bec7-30959d0feacc",
   "metadata": {},
   "outputs": [
    {
     "name": "stdout",
     "output_type": "stream",
     "text": [
      "Hello World\n"
     ]
    }
   ],
   "source": [
    "print(strr)"
   ]
  },
  {
   "cell_type": "code",
   "execution_count": 11,
   "id": "06ab2c36-b446-4f5e-b96a-1aa506f1da23",
   "metadata": {},
   "outputs": [
    {
     "name": "stdout",
     "output_type": "stream",
     "text": [
      "o\n"
     ]
    }
   ],
   "source": [
    "print(strr[4])"
   ]
  },
  {
   "cell_type": "markdown",
   "id": "8e146c38-1d95-4430-aa73-c6e7a0cac381",
   "metadata": {},
   "source": [
    "**Accessing a Subset of Characters**"
   ]
  },
  {
   "cell_type": "code",
   "execution_count": 13,
   "id": "5e4f9503-ce44-4554-97b5-afa8b1fdff1a",
   "metadata": {},
   "outputs": [],
   "source": [
    "strr='Hello World'"
   ]
  },
  {
   "cell_type": "code",
   "execution_count": 15,
   "id": "e1be71a3-6ac1-4d77-abd5-637087374d22",
   "metadata": {},
   "outputs": [
    {
     "name": "stdout",
     "output_type": "stream",
     "text": [
      "o\n"
     ]
    }
   ],
   "source": [
    "print(strr[4])  #character at 4th position"
   ]
  },
  {
   "cell_type": "code",
   "execution_count": 17,
   "id": "5838ab66-02db-4069-a4f6-3683c86938a2",
   "metadata": {},
   "outputs": [
    {
     "name": "stdout",
     "output_type": "stream",
     "text": [
      "ello\n"
     ]
    }
   ],
   "source": [
    "print(strr[1:5]) #from position 1 to 5"
   ]
  },
  {
   "cell_type": "code",
   "execution_count": 19,
   "id": "25853053-a6db-4a2d-b182-dd6640cf5d75",
   "metadata": {},
   "outputs": [
    {
     "name": "stdout",
     "output_type": "stream",
     "text": [
      "Hello\n"
     ]
    }
   ],
   "source": [
    "print(strr[:5]) #from start to position 5"
   ]
  },
  {
   "cell_type": "code",
   "execution_count": 21,
   "id": "0fe51311-0f29-43df-a5aa-a1323a60c65d",
   "metadata": {},
   "outputs": [
    {
     "name": "stdout",
     "output_type": "stream",
     "text": [
      "llo World\n"
     ]
    }
   ],
   "source": [
    "print(strr[2:]) #from postion 2 to end"
   ]
  },
  {
   "cell_type": "markdown",
   "id": "c60126a8-08bf-4bb1-b312-eb34659d11f3",
   "metadata": {},
   "source": [
    "**Repeating Strings**"
   ]
  },
  {
   "cell_type": "code",
   "execution_count": 28,
   "id": "e5f70ab0-ba2d-4737-a938-d3673ab052a5",
   "metadata": {},
   "outputs": [],
   "source": [
    "# We can also use the '*' operator with strings. In the case of strings this means repeat the given string a certain number of times. \n",
    "#This generates a new string containingthe original string repeated n number of times"
   ]
  },
  {
   "cell_type": "code",
   "execution_count": 25,
   "id": "c9a7113d-4640-47d2-95a6-f519443d65f1",
   "metadata": {},
   "outputs": [],
   "source": [
    "strr='Hello'"
   ]
  },
  {
   "cell_type": "code",
   "execution_count": 26,
   "id": "1a537312-1264-4f24-a850-f5dee2ae9955",
   "metadata": {},
   "outputs": [
    {
     "name": "stdout",
     "output_type": "stream",
     "text": [
      "HelloHelloHelloHelloHello\n"
     ]
    }
   ],
   "source": [
    "print(strr * 5)"
   ]
  },
  {
   "cell_type": "markdown",
   "id": "27e933d5-8b73-4053-ad9c-3b46e471d959",
   "metadata": {},
   "source": [
    "**Splitting Strings**"
   ]
  },
  {
   "cell_type": "code",
   "execution_count": 27,
   "id": "fdf2e4a2-d0b4-4936-babd-0dcb5fb44c91",
   "metadata": {},
   "outputs": [],
   "source": [
    "# A very common requirement is the need to split a string up into multiple separate\n",
    "#strings based on a specific character such as a space or a comma.\n",
    "#This can be done with the split() function, that takes a string to used in\n",
    "#identifying how to split up the receiving string."
   ]
  },
  {
   "cell_type": "code",
   "execution_count": 29,
   "id": "71b5fc7c-bd43-4aba-b77c-4455d7b7dbd5",
   "metadata": {},
   "outputs": [],
   "source": [
    "title='The Good, The Bad, and the Ugly'"
   ]
  },
  {
   "cell_type": "code",
   "execution_count": 30,
   "id": "280dc0f6-4b08-47c9-bccc-253ab3467494",
   "metadata": {},
   "outputs": [
    {
     "name": "stdout",
     "output_type": "stream",
     "text": [
      "The Good, The Bad, and the Ugly\n"
     ]
    }
   ],
   "source": [
    "print(title)"
   ]
  },
  {
   "cell_type": "code",
   "execution_count": 31,
   "id": "47aad146-af3a-4ce1-8f45-d9dd518c3dd3",
   "metadata": {},
   "outputs": [
    {
     "name": "stdout",
     "output_type": "stream",
     "text": [
      "Split using space ['The', 'Good,', 'The', 'Bad,', 'and', 'the', 'Ugly']\n"
     ]
    }
   ],
   "source": [
    "print('Split using space', title.split(' ' ))"
   ]
  },
  {
   "cell_type": "code",
   "execution_count": 32,
   "id": "a8327493-e3fc-4778-8d59-8448b0db0fd1",
   "metadata": {},
   "outputs": [
    {
     "name": "stdout",
     "output_type": "stream",
     "text": [
      "Split using comma ['The Good', ' The Bad', ' and the Ugly']\n"
     ]
    }
   ],
   "source": [
    "print('Split using comma' , title.split(','))"
   ]
  },
  {
   "cell_type": "markdown",
   "id": "3e000362-6d28-4634-90e7-20bb0bf3402c",
   "metadata": {},
   "source": [
    "**Counting Strings**"
   ]
  },
  {
   "cell_type": "code",
   "execution_count": 33,
   "id": "5ff48ddc-2ce8-4cc9-bdfa-f2f2eb33d822",
   "metadata": {},
   "outputs": [],
   "source": [
    "# It is possible to find out how many times a string is repeated in another string. This\n",
    "#is done using the count() operation"
   ]
  },
  {
   "cell_type": "code",
   "execution_count": 37,
   "id": "a28e8ba4-487b-44c6-b2f1-2283c8f7934b",
   "metadata": {},
   "outputs": [],
   "source": [
    "title='Count, the number of   spaces'\n"
   ]
  },
  {
   "cell_type": "code",
   "execution_count": 38,
   "id": "67144661-7915-42b3-99af-2d17bb6b04b4",
   "metadata": {},
   "outputs": [
    {
     "name": "stdout",
     "output_type": "stream",
     "text": [
      "6\n"
     ]
    }
   ],
   "source": [
    "print(title.count(' '))"
   ]
  },
  {
   "cell_type": "markdown",
   "id": "a192b209-d296-4548-ab31-89ab246bc9a5",
   "metadata": {},
   "source": [
    "**Replacing Strings**"
   ]
  },
  {
   "cell_type": "code",
   "execution_count": 39,
   "id": "9f8d07de-15dc-498a-b7d2-6336cf70dd50",
   "metadata": {},
   "outputs": [],
   "source": [
    "#One string can replace a substring in another string. This is done using the replace() method on a string."
   ]
  },
  {
   "cell_type": "code",
   "execution_count": 40,
   "id": "5fadc5c1-3fdc-44f7-8ebf-b8ea3ec66213",
   "metadata": {},
   "outputs": [],
   "source": [
    "title='Hello WOrld'"
   ]
  },
  {
   "cell_type": "code",
   "execution_count": 41,
   "id": "686a4299-cdef-4f33-a6d8-3d673663a718",
   "metadata": {},
   "outputs": [
    {
     "name": "stdout",
     "output_type": "stream",
     "text": [
      "replacehello WOrld\n"
     ]
    }
   ],
   "source": [
    "print(title.replace('Hello','replacehello'))"
   ]
  },
  {
   "cell_type": "markdown",
   "id": "78681bb9-3fa6-4f29-a439-43f3e327d56b",
   "metadata": {},
   "source": [
    "**Finding Sub Strings**"
   ]
  },
  {
   "cell_type": "code",
   "execution_count": 44,
   "id": "3728a7a3-beb6-4f85-8379-b9a77e251f86",
   "metadata": {},
   "outputs": [],
   "source": [
    "#You can find out if one string is a substring of another string using the find()\n",
    "#method. This method takes a second string as a parameter and checks to see if that\n",
    "#string is in the string receiving the find() method\n",
    "#The method returns −1 if the string is not present. Otherwise it returns an index indicating the start of the substring"
   ]
  },
  {
   "cell_type": "code",
   "execution_count": 42,
   "id": "672dec8c-eb79-4a41-afbd-a84d38d4c974",
   "metadata": {},
   "outputs": [],
   "source": [
    "title= 'Edward Alun Rawlings'"
   ]
  },
  {
   "cell_type": "code",
   "execution_count": 43,
   "id": "bb61cdc6-7a3e-4745-bbb6-31ca89a2d461",
   "metadata": {},
   "outputs": [
    {
     "name": "stdout",
     "output_type": "stream",
     "text": [
      "7\n"
     ]
    }
   ],
   "source": [
    "print(title.find('Alun'))"
   ]
  },
  {
   "cell_type": "code",
   "execution_count": 45,
   "id": "3106a877-d486-4b21-8963-cfec4c33927b",
   "metadata": {},
   "outputs": [],
   "source": [
    "title='Test'"
   ]
  },
  {
   "cell_type": "code",
   "execution_count": 46,
   "id": "6561363d-d8da-4dbb-8e33-7a79dc1f0077",
   "metadata": {},
   "outputs": [
    {
     "name": "stdout",
     "output_type": "stream",
     "text": [
      "-1\n"
     ]
    }
   ],
   "source": [
    "print(title.find('a'))"
   ]
  },
  {
   "cell_type": "markdown",
   "id": "4446e3c3-30a9-4b62-9873-7c1e30ee1d22",
   "metadata": {},
   "source": [
    "**Converting Other Types into Strings**"
   ]
  },
  {
   "cell_type": "code",
   "execution_count": 47,
   "id": "d94f6fef-92fd-4e01-98d0-1c34151d7c9a",
   "metadata": {},
   "outputs": [],
   "source": [
    "#If you try to use the '+' concatenation operator with a string and some other type such as a number then you will get an error"
   ]
  },
  {
   "cell_type": "code",
   "execution_count": 49,
   "id": "b08b55eb-f429-4e96-8f18-ce686c1079d8",
   "metadata": {},
   "outputs": [
    {
     "ename": "TypeError",
     "evalue": "can only concatenate str (not \"int\") to str",
     "output_type": "error",
     "traceback": [
      "\u001b[31m---------------------------------------------------------------------------\u001b[39m",
      "\u001b[31mTypeError\u001b[39m                                 Traceback (most recent call last)",
      "\u001b[36mCell\u001b[39m\u001b[36m \u001b[39m\u001b[32mIn[49]\u001b[39m\u001b[32m, line 1\u001b[39m\n\u001b[32m----> \u001b[39m\u001b[32m1\u001b[39m msg=\u001b[33;43m'\u001b[39;49m\u001b[33;43mHello Lloyd you are \u001b[39;49m\u001b[33;43m'\u001b[39;49m\u001b[43m \u001b[49m\u001b[43m+\u001b[49m\u001b[43m \u001b[49m\u001b[32;43m21\u001b[39;49m\n",
      "\u001b[31mTypeError\u001b[39m: can only concatenate str (not \"int\") to str"
     ]
    }
   ],
   "source": [
    "msg='Hello Lloyd you are ' + 21"
   ]
  },
  {
   "cell_type": "code",
   "execution_count": 50,
   "id": "3d9fbde6-99a0-45e2-8422-d681ded45838",
   "metadata": {},
   "outputs": [],
   "source": [
    "msg='Hello Lloyd you are ' + '21'"
   ]
  },
  {
   "cell_type": "code",
   "execution_count": 51,
   "id": "6855f742-fe91-416f-b455-1ea96e97bd75",
   "metadata": {},
   "outputs": [
    {
     "name": "stdout",
     "output_type": "stream",
     "text": [
      "Hello Lloyd you are 21\n"
     ]
    }
   ],
   "source": [
    "print(msg)"
   ]
  },
  {
   "cell_type": "markdown",
   "id": "f93d2d45-f19e-4ef5-982e-5cd84b3c0352",
   "metadata": {},
   "source": [
    "**Comparing Strings**"
   ]
  },
  {
   "cell_type": "code",
   "execution_count": 53,
   "id": "14b95616-d549-471b-ae03-21f8455e0f99",
   "metadata": {},
   "outputs": [],
   "source": [
    "#To compare one string with another you can use the '==' equality and '!=' not equals operators.\n",
    "#These will compare two strings and return either True or False indicating whether the strings are equal or not"
   ]
  },
  {
   "cell_type": "code",
   "execution_count": 54,
   "id": "2903ead8-02a8-45c9-bfee-1c4f878083ab",
   "metadata": {},
   "outputs": [],
   "source": [
    "title='Apple'"
   ]
  },
  {
   "cell_type": "code",
   "execution_count": 56,
   "id": "5639ffe4-ce8f-4d95-9f8b-fb664158d5b4",
   "metadata": {},
   "outputs": [
    {
     "name": "stdout",
     "output_type": "stream",
     "text": [
      "False\n"
     ]
    }
   ],
   "source": [
    "print(title == 'APPLE')"
   ]
  },
  {
   "cell_type": "code",
   "execution_count": 58,
   "id": "3cb47dbe-865c-4fdf-b2be-44b49be8af62",
   "metadata": {},
   "outputs": [
    {
     "name": "stdout",
     "output_type": "stream",
     "text": [
      "True\n"
     ]
    }
   ],
   "source": [
    "print(title != 'APPLE')"
   ]
  },
  {
   "cell_type": "markdown",
   "id": "adc10cbe-6434-41d9-a8d0-3f219f2f61a8",
   "metadata": {},
   "source": [
    "**MORE EXAMPLES**"
   ]
  },
  {
   "cell_type": "code",
   "execution_count": 59,
   "id": "3cd95a2f-6c21-4f2d-a694-3e4410785c7b",
   "metadata": {},
   "outputs": [
    {
     "name": "stdout",
     "output_type": "stream",
     "text": [
      "Testing a String\n",
      "--------------------\n",
      "some_string Hello World\n",
      "some_string.startswith('H') True\n",
      "some_string.startswith('h') False\n",
      "some_string.endswith('d') True\n",
      "some_string.istitle() True\n",
      "some_string.isupper() False\n",
      "some_string.islower() False\n",
      "some_string.isalpha() False\n",
      "String conversions\n",
      "--------------------\n",
      "some_string.upper() HELLO WORLD\n",
      "some_string.lower() hello world\n",
      "some_string.title() Hello World\n",
      "some_string.swapcase() hELLO wORLD\n",
      "String leading, trailing spaces xyz\n"
     ]
    }
   ],
   "source": [
    "some_string = 'Hello World'\n",
    "print('Testing a String')\n",
    "print('-' * 20)\n",
    "print('some_string', some_string)\n",
    "print(\"some_string.startswith('H')\",\n",
    "some_string.startswith('H'))\n",
    "print(\"some_string.startswith('h')\",\n",
    "some_string.startswith('h'))\n",
    "print(\"some_string.endswith('d')\", some_string.endswith('d'))\n",
    "print('some_string.istitle()', some_string.istitle())\n",
    "print('some_string.isupper()', some_string.isupper())\n",
    "print('some_string.islower()', some_string.islower())\n",
    "print('some_string.isalpha()', some_string.isalpha())\n",
    "print('String conversions')\n",
    "print('-' * 20)\n",
    "print('some_string.upper()', some_string.upper())\n",
    "print('some_string.lower()', some_string.lower())\n",
    "print('some_string.title()', some_string.title())\n",
    "print('some_string.swapcase()', some_string.swapcase())\n",
    "print('String leading, trailing spaces', \" xyz \".strip())"
   ]
  },
  {
   "cell_type": "markdown",
   "id": "efbd6229-75d6-4783-961e-954fc07a5ffe",
   "metadata": {},
   "source": [
    "**String Formatting**"
   ]
  },
  {
   "cell_type": "code",
   "execution_count": 62,
   "id": "4d72759a-991d-4374-b082-f448f0e2f1b4",
   "metadata": {},
   "outputs": [],
   "source": [
    "format_string='Hello {}'"
   ]
  },
  {
   "cell_type": "code",
   "execution_count": 63,
   "id": "9514c956-1fdb-4da6-9815-aefcf4254dce",
   "metadata": {},
   "outputs": [
    {
     "name": "stdout",
     "output_type": "stream",
     "text": [
      "Hello Swapnil\n"
     ]
    }
   ],
   "source": [
    "print(format_string.format('Swapnil'))"
   ]
  },
  {
   "cell_type": "code",
   "execution_count": 64,
   "id": "009d6685-9800-4d3d-93ad-609fba5d9cdc",
   "metadata": {},
   "outputs": [],
   "source": [
    "## Allows multiple values to populate the string"
   ]
  },
  {
   "cell_type": "code",
   "execution_count": 65,
   "id": "e4c5d9b1-ed08-48f2-8e9a-5c5a4be79bfa",
   "metadata": {},
   "outputs": [],
   "source": [
    "msg='Adam'"
   ]
  },
  {
   "cell_type": "code",
   "execution_count": 66,
   "id": "62a81d61-42ea-4ff2-9dae-04c94544c532",
   "metadata": {},
   "outputs": [],
   "source": [
    "age=20"
   ]
  },
  {
   "cell_type": "code",
   "execution_count": 68,
   "id": "4c746035-de07-49d7-b674-4d912941276a",
   "metadata": {},
   "outputs": [
    {
     "name": "stdout",
     "output_type": "stream",
     "text": [
      "Hello Adam is 20 years old\n"
     ]
    }
   ],
   "source": [
    "print(\"Hello {} is {} years old\".format(msg,age))"
   ]
  },
  {
   "cell_type": "code",
   "execution_count": 69,
   "id": "3b9c7811-ecfb-4730-967b-31ca39555ff9",
   "metadata": {},
   "outputs": [],
   "source": [
    "## Can specify an index for the substitution"
   ]
  },
  {
   "cell_type": "code",
   "execution_count": 74,
   "id": "1ae726fe-517f-4a0b-95ed-3861619b4ffb",
   "metadata": {},
   "outputs": [],
   "source": [
    "msg='Hello {1}  Charlet.Ypu are {0} years old'"
   ]
  },
  {
   "cell_type": "code",
   "execution_count": 75,
   "id": "8acb46b1-ddb7-4c1d-8247-54a4e7bbfef9",
   "metadata": {},
   "outputs": [
    {
     "name": "stdout",
     "output_type": "stream",
     "text": [
      "Hello Adam  Charlet.Ypu are 20 years old\n"
     ]
    }
   ],
   "source": [
    "print(msg.format(20,'Adam'))"
   ]
  },
  {
   "cell_type": "code",
   "execution_count": 76,
   "id": "447a5dc3-0190-4807-a0fd-010f412f84f4",
   "metadata": {},
   "outputs": [],
   "source": [
    "## Can use named substitutions, order is not significant"
   ]
  },
  {
   "cell_type": "code",
   "execution_count": 77,
   "id": "3182471a-79fb-4ed6-894e-7f364d4bc192",
   "metadata": {},
   "outputs": [],
   "source": [
    "msg='Hello {name} welcome to {course}'"
   ]
  },
  {
   "cell_type": "code",
   "execution_count": 78,
   "id": "da3aa73d-0685-4e73-b98b-6b3f7733b765",
   "metadata": {},
   "outputs": [
    {
     "name": "stdout",
     "output_type": "stream",
     "text": [
      "Hello Adam welcome to Python\n"
     ]
    }
   ],
   "source": [
    "print(msg.format(name='Adam',course='Python'))"
   ]
  },
  {
   "cell_type": "code",
   "execution_count": 85,
   "id": "1252adbd-57fa-4454-8ceb-970e3107dc03",
   "metadata": {},
   "outputs": [
    {
     "ename": "SyntaxError",
     "evalue": "invalid character '•' (U+2022) (2281378143.py, line 14)",
     "output_type": "error",
     "traceback": [
      "  \u001b[36mCell\u001b[39m\u001b[36m \u001b[39m\u001b[32mIn[85]\u001b[39m\u001b[32m, line 14\u001b[39m\n\u001b[31m    \u001b[39m\u001b[31m• < Indicates left alignment (the default),\u001b[39m\n    ^\n\u001b[31mSyntaxError\u001b[39m\u001b[31m:\u001b[39m invalid character '•' (U+2022)\n"
     ]
    }
   ],
   "source": [
    "#\n",
    "It is also possible to indicate alignment and width within the format string. For\n",
    "example, if you wish to indicate a width to be left for a placeholder whatever the\n",
    "actual value supplied, you can do this using a colon (':') followed by the width to\n",
    "use. For example to specify a gap of 25 characters which can be filled with a\n",
    "substitute value you can use {:25} as shown below:\n",
    "print('|{:25}|'.format('25 characters width'))\n",
    "In the above the vertical bars are merely being used to indicate where the string\n",
    "starts and ends for reference, they have no meaning within the format method. This\n",
    "produces the output:\n",
    "|25 characters width |\n",
    "44 4 Python Strings\n",
    "Within this gap you can also indicate an alignment where:\n",
    "• < Indicates left alignment (the default),\n",
    "• > Indicates right alignment,\n",
    "• ^ Indicates centered.\n",
    "These follow the colon (':') and come before the size of the gap to use, for\n",
    "example:\n",
    "print('|{:<25}|'.format('left aligned')) # The default\n",
    "print('|{:>25}|'.format('right aligned'))\n",
    "print('|{:^25}|'.format('centered'))\n",
    "Which produces:\n",
    "|left aligned |\n",
    "| right aligned|\n",
    "#| centered |\n",
    "\n"
   ]
  },
  {
   "cell_type": "code",
   "execution_count": 86,
   "id": "765cb9ea-cd14-43af-bffe-74ba8045811f",
   "metadata": {},
   "outputs": [
    {
     "ename": "SyntaxError",
     "evalue": "invalid syntax (1521119162.py, line 2)",
     "output_type": "error",
     "traceback": [
      "  \u001b[36mCell\u001b[39m\u001b[36m \u001b[39m\u001b[32mIn[86]\u001b[39m\u001b[32m, line 2\u001b[39m\n\u001b[31m    \u001b[39m\u001b[31mseparators (such as a comma) to indicate thousands:\u001b[39m\n                     ^\n\u001b[31mSyntaxError\u001b[39m\u001b[31m:\u001b[39m invalid syntax\n"
     ]
    }
   ],
   "source": [
    "#Another formatting option is to indicate that a number should be formatted with\n",
    "separators (such as a comma) to indicate thousands:\n",
    "# Can format numbers with comma as thousands separator\n",
    "print('{:,}'.format(1234567890))\n",
    "print('{:,}'.format(1234567890.0))\n",
    "Which generates the output:\n",
    "1,234,567,890\n",
    "1,234,567,890.0\n",
    "There are in fact numerous options available to control the layout of a value\n",
    "within the format string and the Python documentation should be referenced for\n",
    "further information.\n"
   ]
  },
  {
   "cell_type": "markdown",
   "id": "43d83e4b-ddb2-4557-9645-2e9c159985f7",
   "metadata": {},
   "source": [
    "**String Templates**"
   ]
  },
  {
   "cell_type": "code",
   "execution_count": 89,
   "id": "6f1fe043-7eee-4bc9-ae37-ed6c9b2401e9",
   "metadata": {},
   "outputs": [],
   "source": [
    "#A string template is a class (type of thing) that is created via the string.Template() function. \n",
    "#The template contains one or more named variables preceded with a $ symbol. \n",
    "#The Template can then be used with a set of values that replace the template variables with actual values."
   ]
  },
  {
   "cell_type": "code",
   "execution_count": 92,
   "id": "5251fe50-84c7-4a6d-a762-3e6493644eb1",
   "metadata": {},
   "outputs": [
    {
     "name": "stdout",
     "output_type": "stream",
     "text": [
      "Swapnil is 20 old\n"
     ]
    }
   ],
   "source": [
    "import string\n",
    "# Initialise the template with ¢variables that\n",
    "# will be substitute with actual values\n",
    "\n",
    "msg=string.Template('$name is $years old')\n",
    "print(msg.substitute(name='Swapnil',years=20))\n"
   ]
  },
  {
   "cell_type": "code",
   "execution_count": 96,
   "id": "037e0a3a-f008-4536-a89e-4d9b369cba81",
   "metadata": {},
   "outputs": [
    {
     "name": "stdout",
     "output_type": "stream",
     "text": [
      "Hello Swapnil sang Test in 2020\n"
     ]
    }
   ],
   "source": [
    "#Using dictionary\n",
    "msg=string.Template('Hello $name sang $song in $year')\n",
    "d=dict(name='Swapnil',song='Test',year=2020)\n",
    "print(msg.substitute(d))\n"
   ]
  },
  {
   "cell_type": "code",
   "execution_count": 98,
   "id": "340d9ce5-fd61-4294-933b-21a7eac16dab",
   "metadata": {},
   "outputs": [],
   "source": [
    "#Exercice 1\n",
    "#Explore replacing a string\n",
    "#Create a string with words separated by ',' and replace the commas with spaces;\n",
    "#for example replace all the commas in 'Denyse,Marie,Smith,21,London,UK'\n",
    "#with spaces. Now print out the resulting string."
   ]
  },
  {
   "cell_type": "code",
   "execution_count": 99,
   "id": "639b41d1-35ef-4934-a0a0-cd24b2abaea5",
   "metadata": {},
   "outputs": [],
   "source": [
    "msg='Denyse,Marie,Smith,21,London,UK'"
   ]
  },
  {
   "cell_type": "code",
   "execution_count": 100,
   "id": "94cee760-dda3-4ca4-a594-b5e0a15d93f5",
   "metadata": {},
   "outputs": [
    {
     "name": "stdout",
     "output_type": "stream",
     "text": [
      "Denyse Marie Smith 21 London UK\n"
     ]
    }
   ],
   "source": [
    "print(msg.replace(',', ' '))"
   ]
  },
  {
   "cell_type": "code",
   "execution_count": 109,
   "id": "6b92f4ce-0ab6-4cb3-b995-a855ee26a673",
   "metadata": {},
   "outputs": [],
   "source": [
    "#Exercise 2\n",
    "#Handle user input\n",
    "#The aim of this exercise is to write a program to ask the user for two strings and\n",
    "#concatenate them together, with a space between them and store them into a new\n",
    "#variable called new_string.\n"
   ]
  },
  {
   "cell_type": "code",
   "execution_count": 110,
   "id": "5baf5fd2-2256-4c7b-8f35-368d630f0f87",
   "metadata": {},
   "outputs": [
    {
     "name": "stdin",
     "output_type": "stream",
     "text": [
      "Enter first string swapnil\n",
      "Enter second string gabhiye\n"
     ]
    },
    {
     "name": "stdout",
     "output_type": "stream",
     "text": [
      "swapnil gabhiye\n"
     ]
    }
   ],
   "source": [
    "#Ask user for inputs\n",
    "str1=input('Enter first string')\n",
    "str2=input('Enter second string')\n",
    "\n",
    "#Cancatenate strings with space\n",
    "result=str1 + ' ' + str2\n",
    "\n",
    "print(result)"
   ]
  },
  {
   "cell_type": "code",
   "execution_count": 116,
   "id": "0e6f861e-a24e-47e1-8056-58cd8f54171b",
   "metadata": {},
   "outputs": [
    {
     "name": "stdout",
     "output_type": "stream",
     "text": [
      "15\n"
     ]
    }
   ],
   "source": [
    "#Print out how long the contents of new_string is.\n",
    "\n",
    "print(len(result))"
   ]
  },
  {
   "cell_type": "code",
   "execution_count": 123,
   "id": "2ac38dbb-4f88-4da1-abdd-9b2738c8f38f",
   "metadata": {},
   "outputs": [
    {
     "name": "stdout",
     "output_type": "stream",
     "text": [
      "False\n"
     ]
    }
   ],
   "source": [
    "#Now convert the contents of new_string to all upper case.\n",
    "print(result.isupper())"
   ]
  },
  {
   "cell_type": "code",
   "execution_count": 125,
   "id": "a59c7458-cedd-4a56-8d81-48c58efac90b",
   "metadata": {},
   "outputs": [
    {
     "name": "stdout",
     "output_type": "stream",
     "text": [
      "SWAPNIL GABHIYE\n"
     ]
    }
   ],
   "source": [
    "print(result.upper())"
   ]
  },
  {
   "cell_type": "code",
   "execution_count": 126,
   "id": "d7ccaa70-335c-4afd-a39d-0919e9c949e2",
   "metadata": {},
   "outputs": [
    {
     "name": "stdout",
     "output_type": "stream",
     "text": [
      "-1\n"
     ]
    }
   ],
   "source": [
    "#Now check to see if new_string contains the string 'Albus' as a substring.\n",
    "\n",
    "print(result.find('Albus'))"
   ]
  },
  {
   "cell_type": "code",
   "execution_count": null,
   "id": "0967f17e-7930-4910-b17c-022bafd370ae",
   "metadata": {},
   "outputs": [],
   "source": []
  }
 ],
 "metadata": {
  "kernelspec": {
   "display_name": "Python 3 (ipykernel)",
   "language": "python",
   "name": "python3"
  },
  "language_info": {
   "codemirror_mode": {
    "name": "ipython",
    "version": 3
   },
   "file_extension": ".py",
   "mimetype": "text/x-python",
   "name": "python",
   "nbconvert_exporter": "python",
   "pygments_lexer": "ipython3",
   "version": "3.13.0"
  }
 },
 "nbformat": 4,
 "nbformat_minor": 5
}
