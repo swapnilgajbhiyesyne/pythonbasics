{
 "cells": [
  {
   "cell_type": "markdown",
   "id": "4d795b9d-aa22-46cd-bb09-c99896543962",
   "metadata": {},
   "source": [
    "**Store your age in a variable. Print: \"I am X years old.\"**"
   ]
  },
  {
   "cell_type": "code",
   "execution_count": 1,
   "id": "8649100d-fce0-4d85-bb35-79c60157963b",
   "metadata": {},
   "outputs": [],
   "source": [
    "age=20"
   ]
  },
  {
   "cell_type": "code",
   "execution_count": 6,
   "id": "bc51c2e8-a51e-4dde-ad6a-3fe5a96eed2a",
   "metadata": {},
   "outputs": [
    {
     "name": "stdout",
     "output_type": "stream",
     "text": [
      "I am 20 years old\n"
     ]
    }
   ],
   "source": [
    "print(\"I am\", age, \"years old\")"
   ]
  },
  {
   "cell_type": "markdown",
   "id": "a959676e-8cd3-46cd-8b18-41a6fc8cb4bd",
   "metadata": {},
   "source": [
    "**Create a variable to store your name and print it.**"
   ]
  },
  {
   "cell_type": "code",
   "execution_count": 7,
   "id": "31cbbeec-ea4a-42cc-adb1-b204a9c18903",
   "metadata": {},
   "outputs": [],
   "source": [
    "name=\"Swapnil\""
   ]
  },
  {
   "cell_type": "code",
   "execution_count": 8,
   "id": "bdeaac39-e042-41d3-8738-e418fe4ee264",
   "metadata": {},
   "outputs": [
    {
     "name": "stdout",
     "output_type": "stream",
     "text": [
      "Swapnil\n"
     ]
    }
   ],
   "source": [
    "print(name)"
   ]
  },
  {
   "cell_type": "markdown",
   "id": "c5c098d4-5891-473e-9a17-ee7ee28a7060",
   "metadata": {},
   "source": [
    "**Assign the number 10 to a variable a, and 5 to b. Print their sum**"
   ]
  },
  {
   "cell_type": "code",
   "execution_count": 9,
   "id": "de734ab9-383d-4e72-87f9-20149a7735db",
   "metadata": {},
   "outputs": [],
   "source": [
    "a=10"
   ]
  },
  {
   "cell_type": "code",
   "execution_count": 10,
   "id": "cc2df17e-7879-4c36-8738-2343c5faa3e4",
   "metadata": {},
   "outputs": [],
   "source": [
    "b=5"
   ]
  },
  {
   "cell_type": "code",
   "execution_count": 11,
   "id": "554d52ed-c029-42b5-b68e-216a8cbc7ce0",
   "metadata": {},
   "outputs": [
    {
     "name": "stdout",
     "output_type": "stream",
     "text": [
      "15\n"
     ]
    }
   ],
   "source": [
    "print(a+b)"
   ]
  },
  {
   "cell_type": "markdown",
   "id": "6b1556c0-20a0-41f2-bf97-8338a4a2a240",
   "metadata": {},
   "source": [
    "**Create a variable price with value 99.99 and print its data type.**"
   ]
  },
  {
   "cell_type": "code",
   "execution_count": 12,
   "id": "6996c3aa-686e-4bf5-98bb-2cd54b8ec0d6",
   "metadata": {},
   "outputs": [],
   "source": [
    "price=99.99"
   ]
  },
  {
   "cell_type": "code",
   "execution_count": 13,
   "id": "69e47fdc-170e-4bb0-bf28-b12f8f0b89a7",
   "metadata": {},
   "outputs": [
    {
     "name": "stdout",
     "output_type": "stream",
     "text": [
      "<class 'float'>\n"
     ]
    }
   ],
   "source": [
    "print(type(price))"
   ]
  },
  {
   "cell_type": "code",
   "execution_count": 14,
   "id": "556600ee-ecd8-46c7-b964-fb81c20f1280",
   "metadata": {},
   "outputs": [
    {
     "name": "stdout",
     "output_type": "stream",
     "text": [
      "99.99\n"
     ]
    }
   ],
   "source": [
    "print(price)"
   ]
  },
  {
   "cell_type": "markdown",
   "id": "7a0055ab-75c1-4bdc-92b8-0f4b28a5f808",
   "metadata": {},
   "source": [
    "**Assign a boolean value True to a variable is_python_fun. Print it.**"
   ]
  },
  {
   "cell_type": "code",
   "execution_count": 18,
   "id": "bc92001c-7219-4224-8ffb-c72043933180",
   "metadata": {},
   "outputs": [],
   "source": [
    "is_python_fun=True"
   ]
  },
  {
   "cell_type": "code",
   "execution_count": 16,
   "id": "b8623774-f9f3-425f-80b4-c424641f8823",
   "metadata": {},
   "outputs": [
    {
     "name": "stdout",
     "output_type": "stream",
     "text": [
      "True\n"
     ]
    }
   ],
   "source": [
    "print(is_python_fun)"
   ]
  },
  {
   "cell_type": "markdown",
   "id": "f4a5f923-4ed7-44f6-b06e-9383a2db397e",
   "metadata": {},
   "source": [
    "**Swap the values of two variables: a = 3, b = 7**"
   ]
  },
  {
   "cell_type": "code",
   "execution_count": 19,
   "id": "133168b4-b9c7-43c2-9b95-d753b3cf1636",
   "metadata": {},
   "outputs": [],
   "source": [
    "a=3"
   ]
  },
  {
   "cell_type": "code",
   "execution_count": 20,
   "id": "8b4aa7dc-fab1-4f02-8301-f84a09599157",
   "metadata": {},
   "outputs": [],
   "source": [
    "b=7"
   ]
  },
  {
   "cell_type": "code",
   "execution_count": 21,
   "id": "9f6c23a6-99b8-4942-9f09-3e10b88f804f",
   "metadata": {},
   "outputs": [],
   "source": [
    "a=b"
   ]
  },
  {
   "cell_type": "code",
   "execution_count": 22,
   "id": "4b94e4b9-1759-4a49-a1d7-7afdb7ff4688",
   "metadata": {},
   "outputs": [],
   "source": [
    "b=a"
   ]
  },
  {
   "cell_type": "code",
   "execution_count": 24,
   "id": "9d6ff44e-e187-4bc7-a7e4-a3a727eac10a",
   "metadata": {},
   "outputs": [
    {
     "name": "stdout",
     "output_type": "stream",
     "text": [
      "a= 7 b= 7\n"
     ]
    }
   ],
   "source": [
    "print(\"a=\",a,\"b=\",b)"
   ]
  },
  {
   "cell_type": "markdown",
   "id": "3505224f-3929-4e0f-822d-a3ce8f656512",
   "metadata": {},
   "source": [
    "**What is wrong with this variable name?**"
   ]
  },
  {
   "cell_type": "code",
   "execution_count": 25,
   "id": "c6945e76-f964-4a93-8c2a-09e017707c6a",
   "metadata": {},
   "outputs": [
    {
     "ename": "SyntaxError",
     "evalue": "invalid decimal literal (1501357862.py, line 1)",
     "output_type": "error",
     "traceback": [
      "  \u001b[36mCell\u001b[39m\u001b[36m \u001b[39m\u001b[32mIn[25]\u001b[39m\u001b[32m, line 1\u001b[39m\n\u001b[31m    \u001b[39m\u001b[31m2name = \"John\"\u001b[39m\n    ^\n\u001b[31mSyntaxError\u001b[39m\u001b[31m:\u001b[39m invalid decimal literal\n"
     ]
    }
   ],
   "source": [
    "2name = \"John\"\n"
   ]
  },
  {
   "cell_type": "code",
   "execution_count": 27,
   "id": "9e27a7b9-9caa-4c77-a768-a86dc0b908a8",
   "metadata": {},
   "outputs": [],
   "source": [
    "#variables cannot start with numbers\n"
   ]
  },
  {
   "cell_type": "code",
   "execution_count": null,
   "id": "c816a6ce-7147-4e2f-bf8c-3c101f6b777f",
   "metadata": {},
   "outputs": [],
   "source": []
  }
 ],
 "metadata": {
  "kernelspec": {
   "display_name": "Python 3 (ipykernel)",
   "language": "python",
   "name": "python3"
  },
  "language_info": {
   "codemirror_mode": {
    "name": "ipython",
    "version": 3
   },
   "file_extension": ".py",
   "mimetype": "text/x-python",
   "name": "python",
   "nbconvert_exporter": "python",
   "pygments_lexer": "ipython3",
   "version": "3.13.0"
  }
 },
 "nbformat": 4,
 "nbformat_minor": 5
}
