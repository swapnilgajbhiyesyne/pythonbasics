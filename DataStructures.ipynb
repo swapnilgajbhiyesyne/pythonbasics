{
 "cells": [
  {
   "cell_type": "markdown",
   "id": "519db379-26aa-4645-b044-e91b948a0c44",
   "metadata": {},
   "source": [
    "**LISTS**"
   ]
  },
  {
   "cell_type": "markdown",
   "id": "62333b2f-bae9-4c8e-a3fa-f191319d8efb",
   "metadata": {},
   "source": [
    "**DETAILS**"
   ]
  },
  {
   "cell_type": "code",
   "execution_count": 12,
   "id": "64546d92-24a8-4789-baa9-31f28375fb70",
   "metadata": {},
   "outputs": [],
   "source": [
    "##Ordered\n",
    "\n",
    "##Mutable (can change)\n",
    "\n",
    "##Can hold mixed types\n",
    "\n",
    "#Can append values\n"
   ]
  },
  {
   "cell_type": "code",
   "execution_count": 1,
   "id": "b58321dc-7455-4353-84d1-64be70197b18",
   "metadata": {},
   "outputs": [],
   "source": [
    "fruits=['apple','orange']"
   ]
  },
  {
   "cell_type": "code",
   "execution_count": 2,
   "id": "3e8331f1-861b-4d12-bafe-f85182e8d6a1",
   "metadata": {},
   "outputs": [
    {
     "name": "stdout",
     "output_type": "stream",
     "text": [
      "orange\n"
     ]
    }
   ],
   "source": [
    "print(fruits[1])"
   ]
  },
  {
   "cell_type": "code",
   "execution_count": 8,
   "id": "4f2581e5-0f6e-4336-aa6f-f31642329622",
   "metadata": {},
   "outputs": [],
   "source": [
    "fruits.append(1)"
   ]
  },
  {
   "cell_type": "code",
   "execution_count": 9,
   "id": "c937fae2-4b66-421b-88ba-d60a65c9e6e5",
   "metadata": {
    "scrolled": true
   },
   "outputs": [
    {
     "name": "stdout",
     "output_type": "stream",
     "text": [
      "['apple', 'orange', 1]\n"
     ]
    }
   ],
   "source": [
    "print(fruits)"
   ]
  },
  {
   "cell_type": "markdown",
   "id": "d2c0494c-def7-4580-a912-fd9bf87f6440",
   "metadata": {},
   "source": [
    "**TUPLE**"
   ]
  },
  {
   "cell_type": "markdown",
   "id": "4e986934-53c7-4954-817c-cf1c8c30c947",
   "metadata": {},
   "source": [
    "**DETAILS**"
   ]
  },
  {
   "cell_type": "code",
   "execution_count": 11,
   "id": "9d2f3be0-3d89-47bb-8a3e-c2115b45a238",
   "metadata": {},
   "outputs": [],
   "source": [
    "#Ordered\n",
    "\n",
    "#Immutable (can’t change after creation)\n",
    "\n",
    "#Often used for fixed data\n",
    "\n",
    "#Cannot append values\n"
   ]
  },
  {
   "cell_type": "code",
   "execution_count": 5,
   "id": "5a32b402-1a1e-45b2-bf6e-7863061d588a",
   "metadata": {},
   "outputs": [],
   "source": [
    "point=(1,2)"
   ]
  },
  {
   "cell_type": "code",
   "execution_count": 6,
   "id": "6b800f10-78b4-4eee-bc86-849ac83bc495",
   "metadata": {},
   "outputs": [
    {
     "name": "stdout",
     "output_type": "stream",
     "text": [
      "(1, 2)\n"
     ]
    }
   ],
   "source": [
    "print(point)"
   ]
  },
  {
   "cell_type": "code",
   "execution_count": 7,
   "id": "224c9724-dcbd-4b5c-a8e9-6d8643440b8c",
   "metadata": {},
   "outputs": [
    {
     "ename": "AttributeError",
     "evalue": "'tuple' object has no attribute 'append'",
     "output_type": "error",
     "traceback": [
      "\u001b[31m---------------------------------------------------------------------------\u001b[39m",
      "\u001b[31mAttributeError\u001b[39m                            Traceback (most recent call last)",
      "\u001b[36mCell\u001b[39m\u001b[36m \u001b[39m\u001b[32mIn[7]\u001b[39m\u001b[32m, line 1\u001b[39m\n\u001b[32m----> \u001b[39m\u001b[32m1\u001b[39m \u001b[43mpoint\u001b[49m\u001b[43m.\u001b[49m\u001b[43mappend\u001b[49m(\u001b[32m4\u001b[39m)\n",
      "\u001b[31mAttributeError\u001b[39m: 'tuple' object has no attribute 'append'"
     ]
    }
   ],
   "source": [
    "point.append(4)"
   ]
  },
  {
   "cell_type": "markdown",
   "id": "214b6ac7-b5a5-4121-9dca-c9fe82b45438",
   "metadata": {},
   "source": [
    "**SETS**"
   ]
  },
  {
   "cell_type": "markdown",
   "id": "7773aaec-7186-464f-ab5c-a3e32c33d6c0",
   "metadata": {},
   "source": [
    "**DETAILS**"
   ]
  },
  {
   "cell_type": "code",
   "execution_count": 13,
   "id": "ebaf23ce-d799-43d6-adb0-3b13b38ebecc",
   "metadata": {},
   "outputs": [],
   "source": [
    "#Unordered\n",
    "\n",
    "#No duplicates\n",
    "\n",
    "#Used for membership testing"
   ]
  },
  {
   "cell_type": "code",
   "execution_count": 18,
   "id": "c911fcbc-42b9-4f8b-9ef8-330fc4eb377f",
   "metadata": {},
   "outputs": [],
   "source": [
    "numbers={1,2,3,2,1,3,4}"
   ]
  },
  {
   "cell_type": "code",
   "execution_count": 19,
   "id": "39c62a5b-7d64-4b46-999a-264ed07ce7af",
   "metadata": {},
   "outputs": [
    {
     "name": "stdout",
     "output_type": "stream",
     "text": [
      "{1, 2, 3, 4}\n"
     ]
    }
   ],
   "source": [
    "print(numbers)"
   ]
  },
  {
   "cell_type": "markdown",
   "id": "2a8e339a-e267-4ee3-94fd-4f761256aa07",
   "metadata": {},
   "source": [
    "**DICTIONARY**"
   ]
  },
  {
   "cell_type": "markdown",
   "id": "71181eea-a0bd-4d40-ba8f-de4de8fb7744",
   "metadata": {},
   "source": [
    "**DEATILS**"
   ]
  },
  {
   "cell_type": "code",
   "execution_count": 20,
   "id": "65ecf048-b7b1-4e21-845c-56e2e2472ace",
   "metadata": {},
   "outputs": [],
   "source": [
    "#Key-value pairs\n",
    "\n",
    "#Unordered (Python 3.7+ maintains insertion order)\n",
    "\n",
    "#Fast lookups by key"
   ]
  },
  {
   "cell_type": "code",
   "execution_count": 23,
   "id": "da431c59-fad5-4813-b733-6d45d80ff575",
   "metadata": {},
   "outputs": [],
   "source": [
    "person={\"name\":\"swapnil\",\"age\":30}"
   ]
  },
  {
   "cell_type": "code",
   "execution_count": 24,
   "id": "7aa0d07e-317e-4f7e-b038-2e05a9118445",
   "metadata": {},
   "outputs": [
    {
     "name": "stdout",
     "output_type": "stream",
     "text": [
      "swapnil\n"
     ]
    }
   ],
   "source": [
    "print(person[\"name\"])"
   ]
  },
  {
   "cell_type": "code",
   "execution_count": 25,
   "id": "a4cf5a39-e881-4999-a72a-5256352eafc3",
   "metadata": {},
   "outputs": [
    {
     "name": "stdout",
     "output_type": "stream",
     "text": [
      "30\n"
     ]
    }
   ],
   "source": [
    "print(person[\"age\"])"
   ]
  },
  {
   "cell_type": "markdown",
   "id": "61dadd07-aeb4-46bf-b282-b95ab9a11f6e",
   "metadata": {},
   "source": [
    "| Data Structure | Ordered | Mutable | Duplicates | Example            |\n",
    "| -------------- | ------- | ------- | ---------- | ------------------ |\n",
    "| List           | Yes     | Yes     | Yes        | `['a', 'b', 'c']`  |\n",
    "| Tuple          | Yes     | No      | Yes        | `('a', 'b', 'c')`  |\n",
    "| Set            | No      | Yes     | No         | `{'a', 'b', 'c'}`  |\n",
    "| Dictionary     | Yes     | Yes     | Keys: No   | `{'a': 1, 'b': 2}` |\n"
   ]
  }
 ],
 "metadata": {
  "kernelspec": {
   "display_name": "Python 3 (ipykernel)",
   "language": "python",
   "name": "python3"
  },
  "language_info": {
   "codemirror_mode": {
    "name": "ipython",
    "version": 3
   },
   "file_extension": ".py",
   "mimetype": "text/x-python",
   "name": "python",
   "nbconvert_exporter": "python",
   "pygments_lexer": "ipython3",
   "version": "3.13.0"
  }
 },
 "nbformat": 4,
 "nbformat_minor": 5
}
