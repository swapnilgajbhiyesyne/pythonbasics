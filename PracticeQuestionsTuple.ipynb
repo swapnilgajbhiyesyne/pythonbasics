{
 "cells": [
  {
   "cell_type": "markdown",
   "id": "33286a75-6d43-41ce-b1f8-b979e80bef95",
   "metadata": {},
   "source": [
    "**TUPLES**"
   ]
  },
  {
   "cell_type": "markdown",
   "id": "d9422a77-0582-4f2f-83b7-c3b4278848bc",
   "metadata": {},
   "source": [
    "**Create a tuple of 3 colors and print the last color.**"
   ]
  },
  {
   "cell_type": "code",
   "execution_count": 1,
   "id": "e76cbecc-18ff-4d19-a1c7-31b79a9dbbf4",
   "metadata": {},
   "outputs": [],
   "source": [
    "colors=('red','orange','blue')"
   ]
  },
  {
   "cell_type": "code",
   "execution_count": 8,
   "id": "73348f2c-826c-453d-9eab-0a4c544232a3",
   "metadata": {},
   "outputs": [
    {
     "name": "stdout",
     "output_type": "stream",
     "text": [
      "blue\n"
     ]
    }
   ],
   "source": [
    "print(colors[-1])\n",
    "#Index starts from last as -1\n"
   ]
  },
  {
   "cell_type": "markdown",
   "id": "d9ea04be-c29c-4c1e-a079-ae53d20fd48d",
   "metadata": {},
   "source": [
    "**Try to change one value in the tuple.**"
   ]
  },
  {
   "cell_type": "code",
   "execution_count": 7,
   "id": "100b0b27-bb18-4090-b82c-f50d40f9209a",
   "metadata": {},
   "outputs": [
    {
     "ename": "TypeError",
     "evalue": "'tuple' object does not support item assignment",
     "output_type": "error",
     "traceback": [
      "\u001b[31m---------------------------------------------------------------------------\u001b[39m",
      "\u001b[31mTypeError\u001b[39m                                 Traceback (most recent call last)",
      "\u001b[36mCell\u001b[39m\u001b[36m \u001b[39m\u001b[32mIn[7]\u001b[39m\u001b[32m, line 1\u001b[39m\n\u001b[32m----> \u001b[39m\u001b[32m1\u001b[39m \u001b[43mcolors\u001b[49m\u001b[43m[\u001b[49m\u001b[32;43m0\u001b[39;49m\u001b[43m]\u001b[49m=\u001b[33m\"\u001b[39m\u001b[33mpink\u001b[39m\u001b[33m\"\u001b[39m\n\u001b[32m      2\u001b[39m \u001b[38;5;66;03m#Explanation: Tuples are immutable.\u001b[39;00m\n",
      "\u001b[31mTypeError\u001b[39m: 'tuple' object does not support item assignment"
     ]
    }
   ],
   "source": [
    "colors[0]=\"pink\"\n",
    "#Explanation: Tuples are immutable.\n"
   ]
  },
  {
   "cell_type": "markdown",
   "id": "05322742-2c67-42c5-8fc7-f610dfef32de",
   "metadata": {},
   "source": [
    "**Create a tuple with 6 numbers. Print the first and last element.**"
   ]
  },
  {
   "cell_type": "code",
   "execution_count": 9,
   "id": "47f1894e-07a1-45f8-bd14-74bde60e9981",
   "metadata": {},
   "outputs": [],
   "source": [
    "numbers=(1,2,3,4,5,6)"
   ]
  },
  {
   "cell_type": "code",
   "execution_count": 11,
   "id": "50ccebd5-078b-4fc7-8d33-be77aebca26c",
   "metadata": {},
   "outputs": [
    {
     "name": "stdout",
     "output_type": "stream",
     "text": [
      "1\n"
     ]
    }
   ],
   "source": [
    "print(numbers[0])"
   ]
  },
  {
   "cell_type": "code",
   "execution_count": 13,
   "id": "beca63c3-f04b-4f5a-9c55-8dc1d638a852",
   "metadata": {},
   "outputs": [
    {
     "name": "stdout",
     "output_type": "stream",
     "text": [
      "6\n"
     ]
    }
   ],
   "source": [
    "print(numbers[5])"
   ]
  },
  {
   "cell_type": "markdown",
   "id": "ec7f221b-0f4a-4706-a26b-2d80d57a9ec9",
   "metadata": {},
   "source": [
    "**Check if the number 5 exists in the tuple (1, 3, 5, 7, 9).**"
   ]
  },
  {
   "cell_type": "code",
   "execution_count": 16,
   "id": "b879ff9c-57fd-4b3e-869f-ecb201e187ad",
   "metadata": {},
   "outputs": [],
   "source": [
    "numbers=(1,3,5,7,9)"
   ]
  },
  {
   "cell_type": "code",
   "execution_count": 17,
   "id": "61aa04ab-f8e3-4a74-b8a6-aba328173ed4",
   "metadata": {},
   "outputs": [
    {
     "name": "stdout",
     "output_type": "stream",
     "text": [
      "True\n"
     ]
    }
   ],
   "source": [
    "print(5 in numbers)"
   ]
  },
  {
   "cell_type": "markdown",
   "id": "a87fb553-2450-47d9-a635-fd1ae3aa8147",
   "metadata": {},
   "source": [
    "**Find the length of the tuple (10, 20, 30, 40).**"
   ]
  },
  {
   "cell_type": "code",
   "execution_count": 18,
   "id": "0842ff77-63cc-4cf0-b46c-0e56e45c177c",
   "metadata": {},
   "outputs": [],
   "source": [
    "length=(10,20,30,40)"
   ]
  },
  {
   "cell_type": "code",
   "execution_count": 19,
   "id": "d526c93b-0f61-45dd-bcd4-6e331f2d41fc",
   "metadata": {},
   "outputs": [
    {
     "name": "stdout",
     "output_type": "stream",
     "text": [
      "4\n"
     ]
    }
   ],
   "source": [
    "print(len(length))"
   ]
  },
  {
   "cell_type": "markdown",
   "id": "1457ccfb-a0a3-4006-ac1a-41faacc53821",
   "metadata": {},
   "source": [
    "**Create a tuple of fruits and use a for loop to print each fruit.**"
   ]
  },
  {
   "cell_type": "code",
   "execution_count": 20,
   "id": "8f528f6b-a3fa-4171-9951-93731b142081",
   "metadata": {},
   "outputs": [],
   "source": [
    "fruits=(\"orange\",\"grapes\",\"apple\")"
   ]
  },
  {
   "cell_type": "code",
   "execution_count": 23,
   "id": "478b9805-73d4-4e9e-9479-cddc162cb1be",
   "metadata": {},
   "outputs": [
    {
     "name": "stdout",
     "output_type": "stream",
     "text": [
      "orange\n",
      "grapes\n",
      "apple\n"
     ]
    }
   ],
   "source": [
    "for item in fruits:\n",
    "    print(item)"
   ]
  },
  {
   "cell_type": "markdown",
   "id": "f685d793-1256-47d8-8029-8392f8ea91f5",
   "metadata": {},
   "source": [
    "**Convert a tuple into a list, change one value, and convert it back to a tuple.**"
   ]
  },
  {
   "cell_type": "code",
   "execution_count": 24,
   "id": "4ea99012-090e-4ced-884e-1f1caa469aeb",
   "metadata": {},
   "outputs": [],
   "source": [
    "numbers=(1,2,3)"
   ]
  },
  {
   "cell_type": "code",
   "execution_count": 27,
   "id": "4c1afd72-63d1-4a19-acac-e3ef9eba6515",
   "metadata": {},
   "outputs": [
    {
     "name": "stdout",
     "output_type": "stream",
     "text": [
      "[1, 2, 3]\n"
     ]
    }
   ],
   "source": [
    "#Convert tuple into list\n",
    "lst=list(numbers)\n",
    "print(lst)"
   ]
  },
  {
   "cell_type": "code",
   "execution_count": 28,
   "id": "e77e26c9-c031-4cdf-a0ea-4c94ffc065e8",
   "metadata": {},
   "outputs": [
    {
     "name": "stdout",
     "output_type": "stream",
     "text": [
      "[1, 4, 3]\n"
     ]
    }
   ],
   "source": [
    "lst[1]=4\n",
    "print(lst)"
   ]
  },
  {
   "cell_type": "code",
   "execution_count": 29,
   "id": "31c21eb1-bc43-4932-92e8-b3f1a46dcca9",
   "metadata": {},
   "outputs": [
    {
     "name": "stdout",
     "output_type": "stream",
     "text": [
      "(1, 4, 3)\n"
     ]
    }
   ],
   "source": [
    "#Convert list back into tuple\n",
    "t=tuple(lst)\n",
    "print(t)"
   ]
  },
  {
   "cell_type": "markdown",
   "id": "ed442de3-a378-4cf7-87fd-360a584de80f",
   "metadata": {},
   "source": [
    "**Use count() to find how many times 2 appears in (2, 4, 2, 6, 2, 8).**"
   ]
  },
  {
   "cell_type": "code",
   "execution_count": 30,
   "id": "1cb1e037-ac83-41a5-8844-cab6d9499e8d",
   "metadata": {},
   "outputs": [],
   "source": [
    "numbers=(2,3,2,6,2,8)"
   ]
  },
  {
   "cell_type": "code",
   "execution_count": 31,
   "id": "70f2c09c-d0b4-4e9f-9ea0-88bcba152004",
   "metadata": {},
   "outputs": [
    {
     "name": "stdout",
     "output_type": "stream",
     "text": [
      "3\n"
     ]
    }
   ],
   "source": [
    "print(numbers.count(2))"
   ]
  },
  {
   "cell_type": "markdown",
   "id": "b84f558a-d6cf-49a9-806b-a23ab0c735b1",
   "metadata": {},
   "source": [
    "**Use index() to find the position of 7 in (5, 7, 9, 7, 11)**"
   ]
  },
  {
   "cell_type": "code",
   "execution_count": 32,
   "id": "b57c9ae7-c8b4-4d29-9f66-66667d0576af",
   "metadata": {},
   "outputs": [],
   "source": [
    "numbers=(5,7,9,7,11)"
   ]
  },
  {
   "cell_type": "code",
   "execution_count": 33,
   "id": "de7c1450-bbaa-4899-bbf9-b69a0d98d492",
   "metadata": {},
   "outputs": [
    {
     "name": "stdout",
     "output_type": "stream",
     "text": [
      "1\n"
     ]
    }
   ],
   "source": [
    "print(numbers.index(7))"
   ]
  },
  {
   "cell_type": "markdown",
   "id": "39016d8f-c5ad-49b1-9042-9cd3916b4ac8",
   "metadata": {},
   "source": [
    "**Create a nested tuple (tuple inside another tuple). Access the inner tuple’s second element.**"
   ]
  },
  {
   "cell_type": "code",
   "execution_count": 41,
   "id": "bf3249cc-e63a-41d1-9219-a010a7fc2758",
   "metadata": {},
   "outputs": [],
   "source": [
    "nestedtuple=(1,2,3,(4,5,6),7)"
   ]
  },
  {
   "cell_type": "code",
   "execution_count": 43,
   "id": "0b90011b-de34-40e1-9ec1-ae62d0334de6",
   "metadata": {},
   "outputs": [
    {
     "name": "stdout",
     "output_type": "stream",
     "text": [
      "5\n"
     ]
    }
   ],
   "source": [
    "print(nestedtuple[3][1])"
   ]
  },
  {
   "cell_type": "markdown",
   "id": "351bc8c2-f1ca-4db1-9ee5-a75f9f68885e",
   "metadata": {},
   "source": [
    "**Concatenate two tuples: (1, 2, 3) and (4, 5, 6).**"
   ]
  },
  {
   "cell_type": "code",
   "execution_count": 44,
   "id": "0ce627ea-1b3b-44e2-98e1-ae26f8b89a31",
   "metadata": {},
   "outputs": [],
   "source": [
    "tuple1=(1,2,3)"
   ]
  },
  {
   "cell_type": "code",
   "execution_count": 45,
   "id": "45a878ff-21ec-4812-908a-f2c2825cb31e",
   "metadata": {},
   "outputs": [],
   "source": [
    "tuple2=(4,5,6)"
   ]
  },
  {
   "cell_type": "code",
   "execution_count": 46,
   "id": "082eed7a-03c7-48a9-acd2-421211aecbb2",
   "metadata": {},
   "outputs": [],
   "source": [
    "concattuple=tuple1 + tuple2"
   ]
  },
  {
   "cell_type": "code",
   "execution_count": 47,
   "id": "38b86790-6049-475b-a411-f420a2b74fc6",
   "metadata": {},
   "outputs": [
    {
     "name": "stdout",
     "output_type": "stream",
     "text": [
      "(1, 2, 3, 4, 5, 6)\n"
     ]
    }
   ],
   "source": [
    "print(concattuple)"
   ]
  },
  {
   "cell_type": "markdown",
   "id": "750c63b7-c958-440f-ab01-e0eb5617f978",
   "metadata": {},
   "source": [
    "**Repeat a tuple (“hi”, “bye”) 3 times using the * operator.**"
   ]
  },
  {
   "cell_type": "code",
   "execution_count": 48,
   "id": "85d2ae63-2fa7-485f-a1ad-cf2e6d39a480",
   "metadata": {},
   "outputs": [],
   "source": [
    "tupleval=(\"hi\",\"bye\")"
   ]
  },
  {
   "cell_type": "code",
   "execution_count": 49,
   "id": "b18edbc7-d418-4536-912c-3b1fc37dacd0",
   "metadata": {},
   "outputs": [],
   "source": [
    "result=(tupleval * 3)"
   ]
  },
  {
   "cell_type": "code",
   "execution_count": 50,
   "id": "93cd6cf4-df3a-4e6c-9cf4-8840efea295c",
   "metadata": {},
   "outputs": [
    {
     "name": "stdout",
     "output_type": "stream",
     "text": [
      "('hi', 'bye', 'hi', 'bye', 'hi', 'bye')\n"
     ]
    }
   ],
   "source": [
    "print(result)"
   ]
  },
  {
   "cell_type": "code",
   "execution_count": null,
   "id": "da3d99d7-fe8e-4f96-ab23-52931d64fd94",
   "metadata": {},
   "outputs": [],
   "source": []
  }
 ],
 "metadata": {
  "kernelspec": {
   "display_name": "Python 3 (ipykernel)",
   "language": "python",
   "name": "python3"
  },
  "language_info": {
   "codemirror_mode": {
    "name": "ipython",
    "version": 3
   },
   "file_extension": ".py",
   "mimetype": "text/x-python",
   "name": "python",
   "nbconvert_exporter": "python",
   "pygments_lexer": "ipython3",
   "version": "3.13.0"
  }
 },
 "nbformat": 4,
 "nbformat_minor": 5
}
